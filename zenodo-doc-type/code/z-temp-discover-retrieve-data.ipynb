{
 "cells": [
  {
   "cell_type": "code",
   "execution_count": 1,
   "id": "d5d94925",
   "metadata": {},
   "outputs": [],
   "source": [
    "import pandas as pd, json, requests"
   ]
  },
  {
   "cell_type": "code",
   "execution_count": 2,
   "id": "1c6e0aba",
   "metadata": {},
   "outputs": [],
   "source": [
    "with open(\"hide/personnal-keys.json\") as f : \n",
    "    ACCESS_TOKEN = json.load(f)[\"ZENODO_KEY\"]\n",
    "    "
   ]
  },
  {
   "cell_type": "markdown",
   "id": "b5793e3b",
   "metadata": {},
   "source": [
    "### memo documentation en ligne  Zenodo\n",
    "\n",
    "le guide pour la recherche avancée https://help.zenodo.org/guides/search/\n",
    "\n",
    "guide utilisation API https://developers.zenodo.org/#representation"
   ]
  },
  {
   "cell_type": "code",
   "execution_count": 22,
   "id": "1db31cd9",
   "metadata": {},
   "outputs": [],
   "source": [
    "## champs pour date created, publication_date, updated_date\n",
    "res = requests.get(\n",
    "    \"https://zenodo.org/api/records\",\n",
    "     params = {\n",
    "         \"q\" : \"publication_date:[2020-01-01 TO 2020-12-31]\",\n",
    "         \"size\" : 300,\n",
    "         \"sort\" : \"mostrecent\",\n",
    "         \"all_version\" : False,\n",
    "         \"access_tpoken\" : ACCESS_TOKEN\n",
    "                }\n",
    ")"
   ]
  },
  {
   "cell_type": "code",
   "execution_count": 23,
   "id": "445e6b45",
   "metadata": {},
   "outputs": [
    {
     "data": {
      "text/plain": [
       "'https://zenodo.org/api/records/?q=publication_date%3A%5B2020-01-01+TO+2020-12-31%5D&size=300&sort=mostrecent&all_version=False&access_tpoken=4A1P6e4gIkvhpcNpVpI05C9yVCjJIDD3vljILoJ1wlyxT9VA70ZXyPMdjqHB'"
      ]
     },
     "execution_count": 23,
     "metadata": {},
     "output_type": "execute_result"
    }
   ],
   "source": [
    "res.url"
   ]
  },
  {
   "cell_type": "code",
   "execution_count": 24,
   "id": "f72e7801",
   "metadata": {
    "scrolled": true
   },
   "outputs": [],
   "source": [
    "res_json = res.json()"
   ]
  },
  {
   "cell_type": "code",
   "execution_count": 6,
   "id": "9c2ddaea",
   "metadata": {},
   "outputs": [],
   "source": [
    "with open(\"zenodo_raw.json\", 'w') as f : \n",
    "    json.dump(res_json, f)"
   ]
  },
  {
   "cell_type": "markdown",
   "id": "1d2a4329",
   "metadata": {},
   "source": [
    "## Documentation"
   ]
  },
  {
   "cell_type": "markdown",
   "id": "2dd7ba5b",
   "metadata": {},
   "source": [
    "###  file_type\n",
    "\n",
    "ce n'est apparemment pas un voca contrôlé (comme pour les mots clés), donc beaucoup de fichier sont sans filetye. on suppose que sont affiché seuls les 10 premiers. "
   ]
  },
  {
   "cell_type": "code",
   "execution_count": 25,
   "id": "cda0286f",
   "metadata": {},
   "outputs": [
    {
     "data": {
      "text/plain": [
       "{'buckets': [{'doc_count': 82856, 'key': 'pdf'},\n",
       "  {'doc_count': 33490, 'key': 'png'},\n",
       "  {'doc_count': 32539, 'key': 'html'},\n",
       "  {'doc_count': 19802, 'key': 'zip'},\n",
       "  {'doc_count': 11625, 'key': 'jpg'},\n",
       "  {'doc_count': 5393, 'key': 'xlsx'},\n",
       "  {'doc_count': 4295, 'key': 'xml'},\n",
       "  {'doc_count': 4276, 'key': 'csv'},\n",
       "  {'doc_count': 3556, 'key': 'docx'},\n",
       "  {'doc_count': 3508, 'key': 'txt'}],\n",
       " 'doc_count_error_upper_bound': 0,\n",
       " 'sum_other_doc_count': 26739}"
      ]
     },
     "execution_count": 25,
     "metadata": {},
     "output_type": "execute_result"
    }
   ],
   "source": [
    "## repartition par file_tpe\n",
    "res_json[\"aggregations\"][\"file_type\"]"
   ]
  },
  {
   "cell_type": "code",
   "execution_count": 8,
   "id": "8687c627",
   "metadata": {},
   "outputs": [
    {
     "data": {
      "text/html": [
       "<div>\n",
       "<style scoped>\n",
       "    .dataframe tbody tr th:only-of-type {\n",
       "        vertical-align: middle;\n",
       "    }\n",
       "\n",
       "    .dataframe tbody tr th {\n",
       "        vertical-align: top;\n",
       "    }\n",
       "\n",
       "    .dataframe thead th {\n",
       "        text-align: right;\n",
       "    }\n",
       "</style>\n",
       "<table border=\"1\" class=\"dataframe\">\n",
       "  <thead>\n",
       "    <tr style=\"text-align: right;\">\n",
       "      <th></th>\n",
       "      <th>doc_count</th>\n",
       "      <th>key</th>\n",
       "    </tr>\n",
       "  </thead>\n",
       "  <tbody>\n",
       "    <tr>\n",
       "      <th>0</th>\n",
       "      <td>82851</td>\n",
       "      <td>pdf</td>\n",
       "    </tr>\n",
       "    <tr>\n",
       "      <th>1</th>\n",
       "      <td>33485</td>\n",
       "      <td>png</td>\n",
       "    </tr>\n",
       "    <tr>\n",
       "      <th>2</th>\n",
       "      <td>32539</td>\n",
       "      <td>html</td>\n",
       "    </tr>\n",
       "    <tr>\n",
       "      <th>3</th>\n",
       "      <td>19807</td>\n",
       "      <td>zip</td>\n",
       "    </tr>\n",
       "    <tr>\n",
       "      <th>4</th>\n",
       "      <td>11625</td>\n",
       "      <td>jpg</td>\n",
       "    </tr>\n",
       "    <tr>\n",
       "      <th>5</th>\n",
       "      <td>5393</td>\n",
       "      <td>xlsx</td>\n",
       "    </tr>\n",
       "    <tr>\n",
       "      <th>6</th>\n",
       "      <td>4295</td>\n",
       "      <td>xml</td>\n",
       "    </tr>\n",
       "    <tr>\n",
       "      <th>7</th>\n",
       "      <td>4278</td>\n",
       "      <td>csv</td>\n",
       "    </tr>\n",
       "    <tr>\n",
       "      <th>8</th>\n",
       "      <td>3556</td>\n",
       "      <td>docx</td>\n",
       "    </tr>\n",
       "    <tr>\n",
       "      <th>9</th>\n",
       "      <td>3509</td>\n",
       "      <td>txt</td>\n",
       "    </tr>\n",
       "  </tbody>\n",
       "</table>\n",
       "</div>"
      ],
      "text/plain": [
       "   doc_count   key\n",
       "0      82851   pdf\n",
       "1      33485   png\n",
       "2      32539  html\n",
       "3      19807   zip\n",
       "4      11625   jpg\n",
       "5       5393  xlsx\n",
       "6       4295   xml\n",
       "7       4278   csv\n",
       "8       3556  docx\n",
       "9       3509   txt"
      ]
     },
     "execution_count": 8,
     "metadata": {},
     "output_type": "execute_result"
    }
   ],
   "source": [
    "ftype = pd.DataFrame.from_dict(res_json[\"aggregations\"][\"file_type\"][\"buckets\"])\n",
    "ftype"
   ]
  },
  {
   "cell_type": "code",
   "execution_count": 9,
   "id": "121fd186",
   "metadata": {},
   "outputs": [
    {
     "data": {
      "text/plain": [
       "201338"
      ]
     },
     "execution_count": 9,
     "metadata": {},
     "output_type": "execute_result"
    }
   ],
   "source": [
    "ftype[\"doc_count\"].sum()"
   ]
  },
  {
   "cell_type": "markdown",
   "id": "7e1a679f",
   "metadata": {},
   "source": [
    "### doc_type"
   ]
  },
  {
   "cell_type": "code",
   "execution_count": 10,
   "id": "75bf4712",
   "metadata": {},
   "outputs": [
    {
     "data": {
      "text/plain": [
       "[{'doc_count': 114871,\n",
       "  'key': 'publication',\n",
       "  'subtype': {'buckets': [{'doc_count': 61464, 'key': 'article'},\n",
       "    {'doc_count': 32464, 'key': 'taxonomictreatment'},\n",
       "    {'doc_count': 5719, 'key': 'conferencepaper'},\n",
       "    {'doc_count': 4629, 'key': 'other'},\n",
       "    {'doc_count': 2201, 'key': 'report'},\n",
       "    {'doc_count': 2110, 'key': 'deliverable'},\n",
       "    {'doc_count': 1502, 'key': 'book'},\n",
       "    {'doc_count': 1312, 'key': 'section'},\n",
       "    {'doc_count': 1152, 'key': 'preprint'},\n",
       "    {'doc_count': 912, 'key': 'workingpaper'},\n",
       "    {'doc_count': 725, 'key': 'thesis'},\n",
       "    {'doc_count': 290, 'key': 'technicalnote'},\n",
       "    {'doc_count': 97, 'key': 'proposal'},\n",
       "    {'doc_count': 77, 'key': 'milestone'},\n",
       "    {'doc_count': 70, 'key': 'softwaredocumentation'},\n",
       "    {'doc_count': 55, 'key': 'patent'},\n",
       "    {'doc_count': 47, 'key': 'datamanagementplan'},\n",
       "    {'doc_count': 34, 'key': 'annotationcollection'},\n",
       "    {'doc_count': 11, 'key': 'peerreview'}],\n",
       "   'doc_count_error_upper_bound': 0,\n",
       "   'sum_other_doc_count': 0}},\n",
       " {'doc_count': 45113,\n",
       "  'key': 'image',\n",
       "  'subtype': {'buckets': [{'doc_count': 43279, 'key': 'figure'},\n",
       "    {'doc_count': 886, 'key': 'photo'},\n",
       "    {'doc_count': 775, 'key': 'drawing'},\n",
       "    {'doc_count': 84, 'key': 'other'},\n",
       "    {'doc_count': 48, 'key': 'plot'},\n",
       "    {'doc_count': 41, 'key': 'diagram'}],\n",
       "   'doc_count_error_upper_bound': 0,\n",
       "   'sum_other_doc_count': 0}},\n",
       " {'doc_count': 23389,\n",
       "  'key': 'dataset',\n",
       "  'subtype': {'buckets': [],\n",
       "   'doc_count_error_upper_bound': 0,\n",
       "   'sum_other_doc_count': 0}},\n",
       " {'doc_count': 13286,\n",
       "  'key': 'software',\n",
       "  'subtype': {'buckets': [],\n",
       "   'doc_count_error_upper_bound': 0,\n",
       "   'sum_other_doc_count': 0}},\n",
       " {'doc_count': 4986,\n",
       "  'key': 'presentation',\n",
       "  'subtype': {'buckets': [],\n",
       "   'doc_count_error_upper_bound': 0,\n",
       "   'sum_other_doc_count': 0}},\n",
       " {'doc_count': 2741,\n",
       "  'key': 'other',\n",
       "  'subtype': {'buckets': [],\n",
       "   'doc_count_error_upper_bound': 0,\n",
       "   'sum_other_doc_count': 0}},\n",
       " {'doc_count': 2089,\n",
       "  'key': 'poster',\n",
       "  'subtype': {'buckets': [],\n",
       "   'doc_count_error_upper_bound': 0,\n",
       "   'sum_other_doc_count': 0}},\n",
       " {'doc_count': 1421,\n",
       "  'key': 'video',\n",
       "  'subtype': {'buckets': [],\n",
       "   'doc_count_error_upper_bound': 0,\n",
       "   'sum_other_doc_count': 0}},\n",
       " {'doc_count': 1008,\n",
       "  'key': 'lesson',\n",
       "  'subtype': {'buckets': [],\n",
       "   'doc_count_error_upper_bound': 0,\n",
       "   'sum_other_doc_count': 0}},\n",
       " {'doc_count': 19,\n",
       "  'key': 'physicalobject',\n",
       "  'subtype': {'buckets': [],\n",
       "   'doc_count_error_upper_bound': 0,\n",
       "   'sum_other_doc_count': 0}}]"
      ]
     },
     "execution_count": 10,
     "metadata": {},
     "output_type": "execute_result"
    }
   ],
   "source": [
    "## repartition par doc_type\n",
    "res_json[\"aggregations\"][\"type\"][\"buckets\"] ## c'est une liste très longyue car les doctype on des sous types"
   ]
  },
  {
   "cell_type": "code",
   "execution_count": 11,
   "id": "8f1f40cf",
   "metadata": {},
   "outputs": [
    {
     "data": {
      "text/plain": [
       "{'doc_count': 45113,\n",
       " 'key': 'image',\n",
       " 'subtype': {'buckets': [{'doc_count': 43279, 'key': 'figure'},\n",
       "   {'doc_count': 886, 'key': 'photo'},\n",
       "   {'doc_count': 775, 'key': 'drawing'},\n",
       "   {'doc_count': 84, 'key': 'other'},\n",
       "   {'doc_count': 48, 'key': 'plot'},\n",
       "   {'doc_count': 41, 'key': 'diagram'}],\n",
       "  'doc_count_error_upper_bound': 0,\n",
       "  'sum_other_doc_count': 0}}"
      ]
     },
     "execution_count": 11,
     "metadata": {},
     "output_type": "execute_result"
    }
   ],
   "source": [
    "### contenu d'un doctype\n",
    "res_json[\"aggregations\"][\"type\"][\"buckets\"][1]"
   ]
  },
  {
   "cell_type": "code",
   "execution_count": 29,
   "id": "f834f47c",
   "metadata": {},
   "outputs": [],
   "source": [
    "### les trois clés qui nous intéressent sont \"doc_count\", \"key\"\n",
    "### creer un dictionnaire pour récupérer ces infos\n",
    "doctype = {}\n",
    "keys = [\"doc_count\", \"key\"]"
   ]
  },
  {
   "cell_type": "code",
   "execution_count": 30,
   "id": "ae05a8e5",
   "metadata": {},
   "outputs": [],
   "source": [
    "## iterer sur tous les éléments de la liste\n",
    "for elem in res_json[\"aggregations\"][\"type\"][\"buckets\"] :\n",
    "    \n",
    "    doctype.update(\n",
    "    {elem[\"key\"] : elem[\"doc_count\"]}\n",
    "    )\n"
   ]
  },
  {
   "cell_type": "code",
   "execution_count": 37,
   "id": "85cfc898",
   "metadata": {},
   "outputs": [
    {
     "data": {
      "text/plain": [
       "{'publication': 114877,\n",
       " 'image': 45118,\n",
       " 'dataset': 23387,\n",
       " 'software': 13281,\n",
       " 'presentation': 4986,\n",
       " 'other': 2741,\n",
       " 'poster': 2089,\n",
       " 'video': 1421,\n",
       " 'lesson': 1007,\n",
       " 'physicalobject': 19}"
      ]
     },
     "execution_count": 37,
     "metadata": {},
     "output_type": "execute_result"
    }
   ],
   "source": [
    "doctype"
   ]
  },
  {
   "cell_type": "code",
   "execution_count": 41,
   "id": "28752abe",
   "metadata": {},
   "outputs": [
    {
     "data": {
      "text/html": [
       "<div>\n",
       "<style scoped>\n",
       "    .dataframe tbody tr th:only-of-type {\n",
       "        vertical-align: middle;\n",
       "    }\n",
       "\n",
       "    .dataframe tbody tr th {\n",
       "        vertical-align: top;\n",
       "    }\n",
       "\n",
       "    .dataframe thead th {\n",
       "        text-align: right;\n",
       "    }\n",
       "</style>\n",
       "<table border=\"1\" class=\"dataframe\">\n",
       "  <thead>\n",
       "    <tr style=\"text-align: right;\">\n",
       "      <th></th>\n",
       "      <th>publication</th>\n",
       "      <th>image</th>\n",
       "      <th>dataset</th>\n",
       "      <th>software</th>\n",
       "      <th>presentation</th>\n",
       "      <th>other</th>\n",
       "      <th>poster</th>\n",
       "      <th>video</th>\n",
       "      <th>lesson</th>\n",
       "      <th>physicalobject</th>\n",
       "    </tr>\n",
       "  </thead>\n",
       "  <tbody>\n",
       "    <tr>\n",
       "      <th>0</th>\n",
       "      <td>114877</td>\n",
       "      <td>45118</td>\n",
       "      <td>23387</td>\n",
       "      <td>13281</td>\n",
       "      <td>4986</td>\n",
       "      <td>2741</td>\n",
       "      <td>2089</td>\n",
       "      <td>1421</td>\n",
       "      <td>1007</td>\n",
       "      <td>19</td>\n",
       "    </tr>\n",
       "  </tbody>\n",
       "</table>\n",
       "</div>"
      ],
      "text/plain": [
       "   publication  image  dataset  software  presentation  other  poster  video  \\\n",
       "0       114877  45118    23387     13281          4986   2741    2089   1421   \n",
       "\n",
       "   lesson  physicalobject  \n",
       "0    1007              19  "
      ]
     },
     "execution_count": 41,
     "metadata": {},
     "output_type": "execute_result"
    }
   ],
   "source": [
    "df = pd.DataFrame.from_dict(doctype, orient = \"index\").T\n",
    "df"
   ]
  },
  {
   "cell_type": "code",
   "execution_count": 18,
   "id": "8b061069",
   "metadata": {},
   "outputs": [],
   "source": [
    "df.to_csv(\"distribution_doctype.csv\", index = False)"
   ]
  },
  {
   "cell_type": "code",
   "execution_count": 15,
   "id": "7de9b40b",
   "metadata": {
    "scrolled": true
   },
   "outputs": [
    {
     "data": {
      "text/plain": [
       "'total de doc dans les doctype 208923'"
      ]
     },
     "execution_count": 15,
     "metadata": {},
     "output_type": "execute_result"
    }
   ],
   "source": [
    "\"total de doc dans les doctype \" + str(df[\"doc_count\"].sum())"
   ]
  },
  {
   "cell_type": "code",
   "execution_count": 16,
   "id": "32a499a8",
   "metadata": {},
   "outputs": [
    {
     "data": {
      "text/plain": [
       "'total de doc présents dans les hits 208925'"
      ]
     },
     "execution_count": 16,
     "metadata": {},
     "output_type": "execute_result"
    }
   ],
   "source": [
    "\"total de doc présents dans les hits \" + str(res_json[\"hits\"][\"total\"])"
   ]
  },
  {
   "cell_type": "code",
   "execution_count": null,
   "id": "bd5585bc",
   "metadata": {},
   "outputs": [],
   "source": []
  }
 ],
 "metadata": {
  "kernelspec": {
   "display_name": "Python 3",
   "language": "python",
   "name": "python3"
  },
  "language_info": {
   "codemirror_mode": {
    "name": "ipython",
    "version": 3
   },
   "file_extension": ".py",
   "mimetype": "text/x-python",
   "name": "python",
   "nbconvert_exporter": "python",
   "pygments_lexer": "ipython3",
   "version": "3.9.7"
  }
 },
 "nbformat": 4,
 "nbformat_minor": 5
}
